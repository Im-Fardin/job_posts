{
 "cells": [
  {
   "cell_type": "markdown",
   "metadata": {},
   "source": [
    "This dataset includes job postings that have been registered with <a href=https://quera.org/magnet/jobs>Quera</a>. To protect the privacy of companies, the IDs of the companies that register the ad have been removed from the dataset. Each line of this dataset is a job advertisement that a company intends to recruit for it."
   ]
  },
  {
   "cell_type": "code",
   "execution_count": 97,
   "metadata": {},
   "outputs": [],
   "source": [
    "import pandas as pd\n",
    "from datetime import datetime"
   ]
  },
  {
   "cell_type": "code",
   "execution_count": 98,
   "metadata": {},
   "outputs": [
    {
     "name": "stdout",
     "output_type": "stream",
     "text": [
      "<class 'pandas.core.frame.DataFrame'>\n",
      "RangeIndex: 7669 entries, 0 to 7668\n",
      "Data columns (total 8 columns):\n",
      " #   Column              Non-Null Count  Dtype \n",
      "---  ------              --------------  ----- \n",
      " 0   Level               7246 non-null   object\n",
      " 1   Offers Remote       7669 non-null   bool  \n",
      " 2   Publish Time        7669 non-null   object\n",
      " 3   Salary              3493 non-null   object\n",
      " 4   Title               7669 non-null   object\n",
      " 5   Close Time          7087 non-null   object\n",
      " 6   State               7669 non-null   object\n",
      " 7   Collaboration Type  7246 non-null   object\n",
      "dtypes: bool(1), object(7)\n",
      "memory usage: 427.0+ KB\n"
     ]
    }
   ],
   "source": [
    "#First let's load the data\n",
    "df = pd.read_csv('job_posts.csv')\n",
    "df.info()"
   ]
  },
  {
   "cell_type": "markdown",
   "metadata": {},
   "source": [
    "We Delete <b>the rows in which all three columns </b> of <code>Level</code>, <code>Salary</code>, and <code>Collaboration Type</code> are missing (<code>NaN</code>) from the data altogether."
   ]
  },
  {
   "cell_type": "code",
   "execution_count": 99,
   "metadata": {},
   "outputs": [
    {
     "name": "stdout",
     "output_type": "stream",
     "text": [
      "<class 'pandas.core.frame.DataFrame'>\n",
      "Index: 7246 entries, 0 to 7668\n",
      "Data columns (total 8 columns):\n",
      " #   Column              Non-Null Count  Dtype \n",
      "---  ------              --------------  ----- \n",
      " 0   Level               7246 non-null   object\n",
      " 1   Offers Remote       7246 non-null   bool  \n",
      " 2   Publish Time        7246 non-null   object\n",
      " 3   Salary              3493 non-null   object\n",
      " 4   Title               7246 non-null   object\n",
      " 5   Close Time          6664 non-null   object\n",
      " 6   State               7246 non-null   object\n",
      " 7   Collaboration Type  7246 non-null   object\n",
      "dtypes: bool(1), object(7)\n",
      "memory usage: 460.0+ KB\n"
     ]
    }
   ],
   "source": [
    "df.dropna(subset=['Salary','Level','Collaboration Type'],how='all',inplace=True)\n",
    "df.info()"
   ]
  },
  {
   "cell_type": "markdown",
   "metadata": {},
   "source": [
    "We replace the values of the <code>Salary</code> column with the number they have.\n",
    "For example, value like this\n",
    "<code>>6MT</code>\n",
    "to\n",
    "<code>6</code>.\n",
    "Or\n",
    "<code>>12MT</code>\n",
    "to\n",
    "<code>12</code>\n",
    ".\n",
    "<br>"
   ]
  },
  {
   "cell_type": "code",
   "execution_count": 100,
   "metadata": {},
   "outputs": [
    {
     "data": {
      "text/html": [
       "<div>\n",
       "<style scoped>\n",
       "    .dataframe tbody tr th:only-of-type {\n",
       "        vertical-align: middle;\n",
       "    }\n",
       "\n",
       "    .dataframe tbody tr th {\n",
       "        vertical-align: top;\n",
       "    }\n",
       "\n",
       "    .dataframe thead th {\n",
       "        text-align: right;\n",
       "    }\n",
       "</style>\n",
       "<table border=\"1\" class=\"dataframe\">\n",
       "  <thead>\n",
       "    <tr style=\"text-align: right;\">\n",
       "      <th></th>\n",
       "      <th>Level</th>\n",
       "      <th>Offers Remote</th>\n",
       "      <th>Publish Time</th>\n",
       "      <th>Salary</th>\n",
       "      <th>Title</th>\n",
       "      <th>Close Time</th>\n",
       "      <th>State</th>\n",
       "      <th>Collaboration Type</th>\n",
       "    </tr>\n",
       "  </thead>\n",
       "  <tbody>\n",
       "    <tr>\n",
       "      <th>0</th>\n",
       "      <td>S</td>\n",
       "      <td>False</td>\n",
       "      <td>2020-04-20 16:52:15</td>\n",
       "      <td>8.0</td>\n",
       "      <td>توسعه‌دهنده Node.js</td>\n",
       "      <td>2020-06-20 03:00:06</td>\n",
       "      <td>C</td>\n",
       "      <td>FT</td>\n",
       "    </tr>\n",
       "    <tr>\n",
       "      <th>1</th>\n",
       "      <td>J</td>\n",
       "      <td>False</td>\n",
       "      <td>2020-02-24 12:55:02</td>\n",
       "      <td>12.0</td>\n",
       "      <td>توسعه‌دهنده Backend</td>\n",
       "      <td>2020-04-25 03:00:05</td>\n",
       "      <td>C</td>\n",
       "      <td>FT</td>\n",
       "    </tr>\n",
       "    <tr>\n",
       "      <th>2</th>\n",
       "      <td>J</td>\n",
       "      <td>True</td>\n",
       "      <td>2020-02-12 13:49:32</td>\n",
       "      <td>8.0</td>\n",
       "      <td>توسعه‌دهنده C#</td>\n",
       "      <td>2020-04-13 03:00:05</td>\n",
       "      <td>C</td>\n",
       "      <td>FT</td>\n",
       "    </tr>\n",
       "    <tr>\n",
       "      <th>3</th>\n",
       "      <td>J</td>\n",
       "      <td>False</td>\n",
       "      <td>2020-08-18 15:46:48</td>\n",
       "      <td>3.0</td>\n",
       "      <td>توسعه‌دهنده Front-end</td>\n",
       "      <td>2020-08-25 21:51:39</td>\n",
       "      <td>C</td>\n",
       "      <td>PT</td>\n",
       "    </tr>\n",
       "    <tr>\n",
       "      <th>5</th>\n",
       "      <td>J</td>\n",
       "      <td>False</td>\n",
       "      <td>2020-10-11 12:02:37</td>\n",
       "      <td>NaN</td>\n",
       "      <td>Associate Product Manager</td>\n",
       "      <td>2020-11-08 01:27:52</td>\n",
       "      <td>C</td>\n",
       "      <td>FT</td>\n",
       "    </tr>\n",
       "  </tbody>\n",
       "</table>\n",
       "</div>"
      ],
      "text/plain": [
       "  Level  Offers Remote         Publish Time  Salary  \\\n",
       "0     S          False  2020-04-20 16:52:15     8.0   \n",
       "1     J          False  2020-02-24 12:55:02    12.0   \n",
       "2     J           True  2020-02-12 13:49:32     8.0   \n",
       "3     J          False  2020-08-18 15:46:48     3.0   \n",
       "5     J          False  2020-10-11 12:02:37     NaN   \n",
       "\n",
       "                       Title           Close Time State Collaboration Type  \n",
       "0        توسعه‌دهنده Node.js  2020-06-20 03:00:06     C                 FT  \n",
       "1        توسعه‌دهنده Backend  2020-04-25 03:00:05     C                 FT  \n",
       "2             توسعه‌دهنده C#  2020-04-13 03:00:05     C                 FT  \n",
       "3      توسعه‌دهنده Front-end  2020-08-25 21:51:39     C                 PT  \n",
       "5  Associate Product Manager  2020-11-08 01:27:52     C                 FT  "
      ]
     },
     "execution_count": 100,
     "metadata": {},
     "output_type": "execute_result"
    }
   ],
   "source": [
    "df['Salary'] = df['Salary'].str.extract(r'(\\d+)').astype(float)\n",
    "df.head()"
   ]
  },
  {
   "cell_type": "markdown",
   "metadata": {},
   "source": [
    "We fill in the missing values of the <code>Salary</code> column with average salaries by <b>level</b>. That is, if the <code>Salary</code> of a junior ad (<code>J</code>) was missing, fill it in with the average of all juniors; if the <code>Salary</code> of a senior ad (<code>S</code>) was missing, fill it with the average of all seniors;"
   ]
  },
  {
   "cell_type": "code",
   "execution_count": 101,
   "metadata": {},
   "outputs": [
    {
     "name": "stdout",
     "output_type": "stream",
     "text": [
      "<class 'pandas.core.frame.DataFrame'>\n",
      "Index: 7246 entries, 0 to 7668\n",
      "Data columns (total 8 columns):\n",
      " #   Column              Non-Null Count  Dtype  \n",
      "---  ------              --------------  -----  \n",
      " 0   Level               7246 non-null   object \n",
      " 1   Offers Remote       7246 non-null   bool   \n",
      " 2   Publish Time        7246 non-null   object \n",
      " 3   Salary              7246 non-null   float64\n",
      " 4   Title               7246 non-null   object \n",
      " 5   Close Time          6664 non-null   object \n",
      " 6   State               7246 non-null   object \n",
      " 7   Collaboration Type  7246 non-null   object \n",
      "dtypes: bool(1), float64(1), object(6)\n",
      "memory usage: 460.0+ KB\n"
     ]
    }
   ],
   "source": [
    "df['Salary'] = df.groupby('Level')['Salary'].transform(lambda a: a.fillna(a.mean()))\n",
    "df.info()"
   ]
  },
  {
   "cell_type": "markdown",
   "metadata": {},
   "source": [
    "So far we have accomplished the preprocess goals and it's time to analize the data.\n",
    "<br>\n",
    "<ul dir=ltr>\n",
    "<li>In the first step, we want to measure the impact of Corona on remote working in Iran.</li>\n",
    "<li>In the second question, we measure the effect of time on the publication of job postings.</li>\n",
    "<li>And finally, in the third step, we will obtain the average receipt of data activists.</li>\n",
    "</ul>"
   ]
  },
  {
   "cell_type": "markdown",
   "metadata": {},
   "source": [
    "How much has the rate of job postings that offer remote work increased compared to before the first official case of Corona in Iran? What is meant by \"the rate of job postings that offer remote work\" is the result of dividing the job postings that offer remote work by the total number of ads. The purpose of this question is to understand how effective Corona has been in remote work.\n",
    "<br>\n",
    "The first official case of Corona in Iran can be found from the <code>start_of_corona</code> variant that is placed in the cell below."
   ]
  },
  {
   "cell_type": "code",
   "execution_count": 102,
   "metadata": {},
   "outputs": [
    {
     "name": "stdout",
     "output_type": "stream",
     "text": [
      "0.23820038642009383\n"
     ]
    }
   ],
   "source": [
    "import warnings\n",
    "\n",
    "start_of_corona = datetime.strptime(\"2020-02-19\", \"%Y-%m-%d\")\n",
    "warnings.filterwarnings('ignore')\n",
    "df_copy = df.copy()\n",
    "df_copy['Publish Time']=pd.to_datetime(df_copy['Publish Time'])\n",
    "bins=[df_copy['Publish Time'].min(),start_of_corona,df_copy['Publish Time'].max()]\n",
    "df_copy['Publish Time']=pd.cut(df_copy['Publish Time'],bins=bins,labels=['before','after'])\n",
    "seperate_remote_growth=df_copy.groupby('Publish Time')['Offers Remote'].apply(lambda a : (a==True).sum()).sort_values(ascending=False)\n",
    "remote_growth =((seperate_remote_growth.values[0] - seperate_remote_growth.values[1])/len(df_copy['Offers Remote']))\n",
    "print(remote_growth)\n"
   ]
  },
  {
   "cell_type": "markdown",
   "metadata": {},
   "source": [
    "In this step, we are going to break down time and you need to break down the 24 hours a day into 4 categories according to the table below.\n",
    "\n",
    "<center>\n",
    "<div dir=rtl style=\"direction: rtl;line-height:200%;font-family:vazir;font-size:medium\">\n",
    "<font face=\"vazirmatn\" size=3>\n",
    "    \n",
    "|name|time frame|\n",
    "|:-------:|:-----:|\n",
    "|dawn| 00:00 to 05:59:59|\n",
    "|morning|6:00 to 11:59:59|\n",
    "|noon|12:00 to 17:59:59|\n",
    "|night|18:00 to 23:59:59|\n",
    "    \n",
    "</font>\n",
    "</div>\n",
    "</center>\n",
    "\n",
    "Now calculate how many job postings have been published in each of these four periods? Your answer must be stored in a variable called <code>discrete_time</code>. This variable is a database whose indexes are <code>dawn</code>, <code>morning</code>,<code>noon</code>and <code>night</code>, and the corresponding value of each of these indexes is the number of job postings published. Your output should be sorted descending by values."
   ]
  },
  {
   "cell_type": "code",
   "execution_count": 103,
   "metadata": {},
   "outputs": [
    {
     "data": {
      "text/plain": [
       "Publish Time\n",
       "noon       3950\n",
       "morning    2443\n",
       "night       746\n",
       "dawn        107\n",
       "Name: count, dtype: int64"
      ]
     },
     "execution_count": 103,
     "metadata": {},
     "output_type": "execute_result"
    }
   ],
   "source": [
    "from datetime import time\n",
    "df_copy_2 = df.copy()\n",
    "dawn = time(0, 0, 0)\n",
    "morning = time(6, 0, 0)\n",
    "noon = time(12, 0, 0)\n",
    "night = time(18, 0, 0)\n",
    "end_of_day = time(23, 59, 59)\n",
    "\n",
    "labels = ['dawn', 'morning', 'noon', 'night']\n",
    "df_copy_2['Publish Time'] = pd.to_datetime(df_copy_2['Publish Time']).dt.time\n",
    "df_copy_2['Publish Time'] = pd.cut(df_copy_2['Publish Time'], bins=[dawn, morning, noon, night, end_of_day], labels=labels, right=False)\n",
    "discrete_time = df_copy_2['Publish Time'].value_counts().sort_values(ascending=False)\n",
    "discrete_time\n"
   ]
  },
  {
   "cell_type": "markdown",
   "metadata": {},
   "source": [
    "In this question, we want to examine the amount of payments that companies pay to people active in the field of data. In order to be able to filter job postings in this field, a list of keywords is placed in the following cell. Let's assume that all job postings that use one of these words in their title are related to the data domain. The title of an ad doesn't have to be entirely one of the keys in the list of keywords; just if a key is part of the title of a job posting, we assume that the job ad is data-related. For example, if a keyword called \"Data Analyst\" is in the list of keywords, then we consider an ad with the headline \"Hire a Data Analyst\" to be related to the data field.\n",
    "Now we define the question as follows: What is the average amount of payment that companies pay to people in the field of data by their level? Put your answer in a database called data_mean. The indexes of this series are the letters M, J, I and S, respectively, and The corresponding value for each of these indices is the average salary paid by companies to that particular level."
   ]
  },
  {
   "cell_type": "code",
   "execution_count": 104,
   "metadata": {},
   "outputs": [
    {
     "data": {
      "text/plain": [
       "Level\n",
       "I     2.256501\n",
       "J     5.750707\n",
       "M    12.000000\n",
       "S     8.891994\n",
       "Name: Salary, dtype: float64"
      ]
     },
     "execution_count": 104,
     "metadata": {},
     "output_type": "execute_result"
    }
   ],
   "source": [
    "keywords = ['machine learning', 'machinelearning', 'داده' , 'data scientist' ,  'datascientist' ,\\\n",
    "        'هوش مصنوعی' ,'پردازش ویدئو' , 'data engineer' , 'dataengineer' ,'بینایی ماشین' , 'یادگیری ماشین' ,\\\n",
    "        'deep learning', 'deeplearning', 'یادگیری عمیق', 'دیتاساینتیست' , 'artificial intelligence' \\\n",
    "        ,'artificialintelligence', 'هوش' , 'data analysis' , 'dataanalysis' , 'پردازش تصویر' , 'شبکه‌های عمیق', 'علم‌داده']\n",
    "\n",
    "df['Title'] = df['Title'].str.lower()\n",
    "\n",
    "# Combine keywords into a single regex pattern\n",
    "pattern = '|'.join(keywords)\n",
    "\n",
    "# Filter the dataframe based on the combined regex pattern\n",
    "data_adds = df[df['Title'].str.contains(pattern,na=None)]\n",
    "\n",
    "# Calculate the mean salary for each level\n",
    "data_mean = data_adds.groupby('Level')['Salary'].mean()\n",
    "\n",
    "data_mean"
   ]
  },
  {
   "cell_type": "code",
   "execution_count": null,
   "metadata": {},
   "outputs": [],
   "source": []
  }
 ],
 "metadata": {
  "kernelspec": {
   "display_name": "quera",
   "language": "python",
   "name": "python3"
  },
  "language_info": {
   "codemirror_mode": {
    "name": "ipython",
    "version": 3
   },
   "file_extension": ".py",
   "mimetype": "text/x-python",
   "name": "python",
   "nbconvert_exporter": "python",
   "pygments_lexer": "ipython3",
   "version": "3.12.1"
  }
 },
 "nbformat": 4,
 "nbformat_minor": 2
}
